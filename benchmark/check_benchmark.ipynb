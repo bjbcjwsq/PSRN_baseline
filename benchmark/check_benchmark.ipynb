{
 "cells": [
  {
   "cell_type": "code",
   "execution_count": 15,
   "metadata": {},
   "outputs": [],
   "source": [
    "import sympy\n",
    "import pandas as pd"
   ]
  },
  {
   "cell_type": "code",
   "execution_count": 16,
   "metadata": {},
   "outputs": [],
   "source": [
    "df = pd.read_csv('./benchmark.csv')"
   ]
  },
  {
   "cell_type": "code",
   "execution_count": 17,
   "metadata": {},
   "outputs": [
    {
     "data": {
      "text/html": [
       "<div>\n",
       "<style scoped>\n",
       "    .dataframe tbody tr th:only-of-type {\n",
       "        vertical-align: middle;\n",
       "    }\n",
       "\n",
       "    .dataframe tbody tr th {\n",
       "        vertical-align: top;\n",
       "    }\n",
       "\n",
       "    .dataframe thead th {\n",
       "        text-align: right;\n",
       "    }\n",
       "</style>\n",
       "<table border=\"1\" class=\"dataframe\">\n",
       "  <thead>\n",
       "    <tr style=\"text-align: right;\">\n",
       "      <th></th>\n",
       "      <th>name</th>\n",
       "      <th>dimension</th>\n",
       "      <th>constant</th>\n",
       "      <th>distribution</th>\n",
       "      <th>range</th>\n",
       "      <th>expression</th>\n",
       "    </tr>\n",
       "  </thead>\n",
       "  <tbody>\n",
       "    <tr>\n",
       "      <th>0</th>\n",
       "      <td>Nguyen-1</td>\n",
       "      <td>1</td>\n",
       "      <td>0</td>\n",
       "      <td>U</td>\n",
       "      <td>[[-1,1,20]]</td>\n",
       "      <td>x1**3+x1**2+x1</td>\n",
       "    </tr>\n",
       "    <tr>\n",
       "      <th>1</th>\n",
       "      <td>Nguyen-2</td>\n",
       "      <td>1</td>\n",
       "      <td>0</td>\n",
       "      <td>U</td>\n",
       "      <td>[[-1,1,20]]</td>\n",
       "      <td>x1**4+x1**3+x1**2+x1</td>\n",
       "    </tr>\n",
       "    <tr>\n",
       "      <th>2</th>\n",
       "      <td>Nguyen-3</td>\n",
       "      <td>1</td>\n",
       "      <td>0</td>\n",
       "      <td>U</td>\n",
       "      <td>[[-1,1,20]]</td>\n",
       "      <td>x1**5+x1**4+x1**3+x1**2+x1</td>\n",
       "    </tr>\n",
       "    <tr>\n",
       "      <th>3</th>\n",
       "      <td>Nguyen-4</td>\n",
       "      <td>1</td>\n",
       "      <td>0</td>\n",
       "      <td>U</td>\n",
       "      <td>[[-1,1,20]]</td>\n",
       "      <td>x1**6+x1**5+x1**4+x1**3+x1**2+x1</td>\n",
       "    </tr>\n",
       "    <tr>\n",
       "      <th>4</th>\n",
       "      <td>Nguyen-5</td>\n",
       "      <td>1</td>\n",
       "      <td>0</td>\n",
       "      <td>U</td>\n",
       "      <td>[[-1,1,20]]</td>\n",
       "      <td>sin(x1**2)*cos(x1)-1</td>\n",
       "    </tr>\n",
       "    <tr>\n",
       "      <th>...</th>\n",
       "      <td>...</td>\n",
       "      <td>...</td>\n",
       "      <td>...</td>\n",
       "      <td>...</td>\n",
       "      <td>...</td>\n",
       "      <td>...</td>\n",
       "    </tr>\n",
       "    <tr>\n",
       "      <th>89</th>\n",
       "      <td>Feynman-A-28</td>\n",
       "      <td>3</td>\n",
       "      <td>0</td>\n",
       "      <td>U</td>\n",
       "      <td>[[1,5,30]]</td>\n",
       "      <td>x1/(x2*(1+x3))</td>\n",
       "    </tr>\n",
       "    <tr>\n",
       "      <th>90</th>\n",
       "      <td>Feynman-A-29</td>\n",
       "      <td>7</td>\n",
       "      <td>0</td>\n",
       "      <td>U</td>\n",
       "      <td>[[1,2,70]]</td>\n",
       "      <td>(x1*x2*x3*x4*x5/(4*x6*sin(x7/2)**2))**2</td>\n",
       "    </tr>\n",
       "    <tr>\n",
       "      <th>91</th>\n",
       "      <td>Feynman-A-30</td>\n",
       "      <td>4</td>\n",
       "      <td>0</td>\n",
       "      <td>U</td>\n",
       "      <td>[[1,3,40]]</td>\n",
       "      <td>x1/(1+x1/((x2*x3**2)*(1-cos(x4))))</td>\n",
       "    </tr>\n",
       "    <tr>\n",
       "      <th>92</th>\n",
       "      <td>Feynman-A-31</td>\n",
       "      <td>4</td>\n",
       "      <td>0</td>\n",
       "      <td>U</td>\n",
       "      <td>[[1,3,40]]</td>\n",
       "      <td>x1*(1-x2**2)/(1+x2*cos(x3-x4))</td>\n",
       "    </tr>\n",
       "    <tr>\n",
       "      <th>93</th>\n",
       "      <td>Feynman-A-32</td>\n",
       "      <td>4</td>\n",
       "      <td>0</td>\n",
       "      <td>U</td>\n",
       "      <td>[[4,6,40]]</td>\n",
       "      <td>x1*(sin(x2/2)*sin(x4*x3/2)/(x2/2*sin(x3/2)))**2</td>\n",
       "    </tr>\n",
       "  </tbody>\n",
       "</table>\n",
       "<p>94 rows × 6 columns</p>\n",
       "</div>"
      ],
      "text/plain": [
       "            name  dimension  constant distribution        range  \\\n",
       "0       Nguyen-1          1         0            U  [[-1,1,20]]   \n",
       "1       Nguyen-2          1         0            U  [[-1,1,20]]   \n",
       "2       Nguyen-3          1         0            U  [[-1,1,20]]   \n",
       "3       Nguyen-4          1         0            U  [[-1,1,20]]   \n",
       "4       Nguyen-5          1         0            U  [[-1,1,20]]   \n",
       "..           ...        ...       ...          ...          ...   \n",
       "89  Feynman-A-28          3         0            U   [[1,5,30]]   \n",
       "90  Feynman-A-29          7         0            U   [[1,2,70]]   \n",
       "91  Feynman-A-30          4         0            U   [[1,3,40]]   \n",
       "92  Feynman-A-31          4         0            U   [[1,3,40]]   \n",
       "93  Feynman-A-32          4         0            U   [[4,6,40]]   \n",
       "\n",
       "                                         expression  \n",
       "0                                    x1**3+x1**2+x1  \n",
       "1                              x1**4+x1**3+x1**2+x1  \n",
       "2                        x1**5+x1**4+x1**3+x1**2+x1  \n",
       "3                  x1**6+x1**5+x1**4+x1**3+x1**2+x1  \n",
       "4                              sin(x1**2)*cos(x1)-1  \n",
       "..                                              ...  \n",
       "89                                   x1/(x2*(1+x3))  \n",
       "90          (x1*x2*x3*x4*x5/(4*x6*sin(x7/2)**2))**2  \n",
       "91               x1/(1+x1/((x2*x3**2)*(1-cos(x4))))  \n",
       "92                   x1*(1-x2**2)/(1+x2*cos(x3-x4))  \n",
       "93  x1*(sin(x2/2)*sin(x4*x3/2)/(x2/2*sin(x3/2)))**2  \n",
       "\n",
       "[94 rows x 6 columns]"
      ]
     },
     "execution_count": 17,
     "metadata": {},
     "output_type": "execute_result"
    }
   ],
   "source": [
    "df"
   ]
  },
  {
   "cell_type": "code",
   "execution_count": 18,
   "metadata": {},
   "outputs": [
    {
     "name": "stdout",
     "output_type": "stream",
     "text": [
      "Nguyen-1\n"
     ]
    },
    {
     "data": {
      "text/latex": [
       "$\\displaystyle x_{1}^{3} + x_{1}^{2} + x_{1}$"
      ],
      "text/plain": [
       "x1**3 + x1**2 + x1"
      ]
     },
     "metadata": {},
     "output_type": "display_data"
    },
    {
     "name": "stdout",
     "output_type": "stream",
     "text": [
      "========================================\n",
      "Nguyen-2\n"
     ]
    },
    {
     "data": {
      "text/latex": [
       "$\\displaystyle x_{1}^{4} + x_{1}^{3} + x_{1}^{2} + x_{1}$"
      ],
      "text/plain": [
       "x1**4 + x1**3 + x1**2 + x1"
      ]
     },
     "metadata": {},
     "output_type": "display_data"
    },
    {
     "name": "stdout",
     "output_type": "stream",
     "text": [
      "========================================\n",
      "Nguyen-3\n"
     ]
    },
    {
     "data": {
      "text/latex": [
       "$\\displaystyle x_{1}^{5} + x_{1}^{4} + x_{1}^{3} + x_{1}^{2} + x_{1}$"
      ],
      "text/plain": [
       "x1**5 + x1**4 + x1**3 + x1**2 + x1"
      ]
     },
     "metadata": {},
     "output_type": "display_data"
    },
    {
     "name": "stdout",
     "output_type": "stream",
     "text": [
      "========================================\n",
      "Nguyen-4\n"
     ]
    },
    {
     "data": {
      "text/latex": [
       "$\\displaystyle x_{1}^{6} + x_{1}^{5} + x_{1}^{4} + x_{1}^{3} + x_{1}^{2} + x_{1}$"
      ],
      "text/plain": [
       "x1**6 + x1**5 + x1**4 + x1**3 + x1**2 + x1"
      ]
     },
     "metadata": {},
     "output_type": "display_data"
    },
    {
     "name": "stdout",
     "output_type": "stream",
     "text": [
      "========================================\n",
      "Nguyen-5\n"
     ]
    },
    {
     "data": {
      "text/latex": [
       "$\\displaystyle \\sin{\\left(x_{1}^{2} \\right)} \\cos{\\left(x_{1} \\right)} - 1$"
      ],
      "text/plain": [
       "sin(x1**2)*cos(x1) - 1"
      ]
     },
     "metadata": {},
     "output_type": "display_data"
    },
    {
     "name": "stdout",
     "output_type": "stream",
     "text": [
      "========================================\n",
      "Nguyen-6\n"
     ]
    },
    {
     "data": {
      "text/latex": [
       "$\\displaystyle \\sin{\\left(x_{1}^{2} \\right)} + \\sin{\\left(x_{1}^{2} + x_{1} \\right)}$"
      ],
      "text/plain": [
       "sin(x1**2) + sin(x1**2 + x1)"
      ]
     },
     "metadata": {},
     "output_type": "display_data"
    },
    {
     "name": "stdout",
     "output_type": "stream",
     "text": [
      "========================================\n",
      "Nguyen-7\n"
     ]
    },
    {
     "data": {
      "text/latex": [
       "$\\displaystyle \\log{\\left(x_{1} + 1 \\right)} + \\log{\\left(x_{1}^{2} + 1 \\right)}$"
      ],
      "text/plain": [
       "log(x1 + 1) + log(x1**2 + 1)"
      ]
     },
     "metadata": {},
     "output_type": "display_data"
    },
    {
     "name": "stdout",
     "output_type": "stream",
     "text": [
      "========================================\n",
      "Nguyen-8\n"
     ]
    },
    {
     "data": {
      "text/latex": [
       "$\\displaystyle \\sqrt{x_{1}}$"
      ],
      "text/plain": [
       "sqrt(x1)"
      ]
     },
     "metadata": {},
     "output_type": "display_data"
    },
    {
     "name": "stdout",
     "output_type": "stream",
     "text": [
      "========================================\n",
      "Nguyen-9\n"
     ]
    },
    {
     "data": {
      "text/latex": [
       "$\\displaystyle \\sin{\\left(x_{1} \\right)} + \\sin{\\left(x_{2}^{2} \\right)}$"
      ],
      "text/plain": [
       "sin(x1) + sin(x2**2)"
      ]
     },
     "metadata": {},
     "output_type": "display_data"
    },
    {
     "name": "stdout",
     "output_type": "stream",
     "text": [
      "========================================\n",
      "Nguyen-10\n"
     ]
    },
    {
     "data": {
      "text/latex": [
       "$\\displaystyle 2 \\sin{\\left(x_{1} \\right)} \\cos{\\left(x_{2} \\right)}$"
      ],
      "text/plain": [
       "2*sin(x1)*cos(x2)"
      ]
     },
     "metadata": {},
     "output_type": "display_data"
    },
    {
     "name": "stdout",
     "output_type": "stream",
     "text": [
      "========================================\n",
      "Nguyen-11\n"
     ]
    },
    {
     "data": {
      "text/latex": [
       "$\\displaystyle x_{1}^{x_{2}}$"
      ],
      "text/plain": [
       "x1**x2"
      ]
     },
     "metadata": {},
     "output_type": "display_data"
    },
    {
     "name": "stdout",
     "output_type": "stream",
     "text": [
      "========================================\n",
      "Nguyen-12\n"
     ]
    },
    {
     "data": {
      "text/latex": [
       "$\\displaystyle x_{1}^{4} - x_{1}^{3} + \\frac{x_{2}^{2}}{2} - x_{2}$"
      ],
      "text/plain": [
       "x1**4 - x1**3 + x2**2/2 - x2"
      ]
     },
     "metadata": {},
     "output_type": "display_data"
    },
    {
     "name": "stdout",
     "output_type": "stream",
     "text": [
      "========================================\n",
      "Nguyen-1c\n"
     ]
    },
    {
     "data": {
      "text/latex": [
       "$\\displaystyle 3.39 x_{1}^{3} + 2.12 x_{1}^{2} + 1.78 x_{1}$"
      ],
      "text/plain": [
       "3.39*x1**3 + 2.12*x1**2 + 1.78*x1"
      ]
     },
     "metadata": {},
     "output_type": "display_data"
    },
    {
     "name": "stdout",
     "output_type": "stream",
     "text": [
      "========================================\n",
      "Nguyen-2c\n"
     ]
    },
    {
     "data": {
      "text/latex": [
       "$\\displaystyle 0.48 x_{1}^{4} + 3.39 x_{1}^{3} + 2.12 x_{1}^{2} + 1.78 x_{1}$"
      ],
      "text/plain": [
       "0.48*x1**4 + 3.39*x1**3 + 2.12*x1**2 + 1.78*x1"
      ]
     },
     "metadata": {},
     "output_type": "display_data"
    },
    {
     "name": "stdout",
     "output_type": "stream",
     "text": [
      "========================================\n",
      "Nguyen-5c\n"
     ]
    },
    {
     "data": {
      "text/latex": [
       "$\\displaystyle \\sin{\\left(x_{1}^{2} \\right)} \\cos{\\left(x_{1} \\right)} - 0.75$"
      ],
      "text/plain": [
       "sin(x1**2)*cos(x1) - 0.75"
      ]
     },
     "metadata": {},
     "output_type": "display_data"
    },
    {
     "name": "stdout",
     "output_type": "stream",
     "text": [
      "========================================\n",
      "Nguyen-7c\n"
     ]
    },
    {
     "data": {
      "text/latex": [
       "$\\displaystyle \\log{\\left(x_{1} + 1.4 \\right)} + \\log{\\left(x_{1}^{2} + 1.3 \\right)}$"
      ],
      "text/plain": [
       "log(x1 + 1.4) + log(x1**2 + 1.3)"
      ]
     },
     "metadata": {},
     "output_type": "display_data"
    },
    {
     "name": "stdout",
     "output_type": "stream",
     "text": [
      "========================================\n",
      "Nguyen-8c\n"
     ]
    },
    {
     "data": {
      "text/latex": [
       "$\\displaystyle 1.10905365064094 \\sqrt{x_{1}}$"
      ],
      "text/plain": [
       "1.10905365064094*sqrt(x1)"
      ]
     },
     "metadata": {},
     "output_type": "display_data"
    },
    {
     "name": "stdout",
     "output_type": "stream",
     "text": [
      "========================================\n",
      "Nguyen-9c\n"
     ]
    },
    {
     "data": {
      "text/latex": [
       "$\\displaystyle \\sin{\\left(1.5 x_{1} \\right)} + \\sin{\\left(0.5 x_{2}^{2} \\right)}$"
      ],
      "text/plain": [
       "sin(1.5*x1) + sin(0.5*x2**2)"
      ]
     },
     "metadata": {},
     "output_type": "display_data"
    },
    {
     "name": "stdout",
     "output_type": "stream",
     "text": [
      "========================================\n",
      "Nguyen-10c\n"
     ]
    },
    {
     "data": {
      "text/latex": [
       "$\\displaystyle \\sin{\\left(1.5 x_{1} \\right)} \\cos{\\left(0.5 x_{2} \\right)}$"
      ],
      "text/plain": [
       "sin(1.5*x1)*cos(0.5*x2)"
      ]
     },
     "metadata": {},
     "output_type": "display_data"
    },
    {
     "name": "stdout",
     "output_type": "stream",
     "text": [
      "========================================\n",
      "R1\n"
     ]
    },
    {
     "data": {
      "text/latex": [
       "$\\displaystyle \\frac{\\left(x_{1} + 1\\right)^{3}}{x_{1}^{2} - x_{1} + 1}$"
      ],
      "text/plain": [
       "(x1 + 1)**3/(x1**2 - x1 + 1)"
      ]
     },
     "metadata": {},
     "output_type": "display_data"
    },
    {
     "name": "stdout",
     "output_type": "stream",
     "text": [
      "========================================\n",
      "R2\n"
     ]
    },
    {
     "data": {
      "text/latex": [
       "$\\displaystyle \\frac{x_{1}^{5} - 3 x_{1}^{3} + 1}{x_{1}^{2} + 1}$"
      ],
      "text/plain": [
       "(x1**5 - 3*x1**3 + 1)/(x1**2 + 1)"
      ]
     },
     "metadata": {},
     "output_type": "display_data"
    },
    {
     "name": "stdout",
     "output_type": "stream",
     "text": [
      "========================================\n",
      "R3\n"
     ]
    },
    {
     "data": {
      "text/latex": [
       "$\\displaystyle \\frac{x_{1}^{6} + x_{1}^{5}}{x_{1}^{4} + x_{1}^{3} + x_{1}^{2} + x_{1} + 1}$"
      ],
      "text/plain": [
       "(x1**6 + x1**5)/(x1**4 + x1**3 + x1**2 + x1 + 1)"
      ]
     },
     "metadata": {},
     "output_type": "display_data"
    },
    {
     "name": "stdout",
     "output_type": "stream",
     "text": [
      "========================================\n",
      "R1ast\n"
     ]
    },
    {
     "data": {
      "text/latex": [
       "$\\displaystyle \\frac{\\left(x_{1} + 1\\right)^{3}}{x_{1}^{2} - x_{1} + 1}$"
      ],
      "text/plain": [
       "(x1 + 1)**3/(x1**2 - x1 + 1)"
      ]
     },
     "metadata": {},
     "output_type": "display_data"
    },
    {
     "name": "stdout",
     "output_type": "stream",
     "text": [
      "========================================\n",
      "R2ast\n"
     ]
    },
    {
     "data": {
      "text/latex": [
       "$\\displaystyle \\frac{x_{1}^{5} - 3 x_{1}^{3} + 1}{x_{1}^{2} + 1}$"
      ],
      "text/plain": [
       "(x1**5 - 3*x1**3 + 1)/(x1**2 + 1)"
      ]
     },
     "metadata": {},
     "output_type": "display_data"
    },
    {
     "name": "stdout",
     "output_type": "stream",
     "text": [
      "========================================\n",
      "R3ast\n"
     ]
    },
    {
     "data": {
      "text/latex": [
       "$\\displaystyle \\frac{x_{1}^{6} + x_{1}^{5}}{x_{1}^{4} + x_{1}^{3} + x_{1}^{2} + x_{1} + 1}$"
      ],
      "text/plain": [
       "(x1**6 + x1**5)/(x1**4 + x1**3 + x1**2 + x1 + 1)"
      ]
     },
     "metadata": {},
     "output_type": "display_data"
    },
    {
     "name": "stdout",
     "output_type": "stream",
     "text": [
      "========================================\n",
      "Livermore-1\n"
     ]
    },
    {
     "data": {
      "text/latex": [
       "$\\displaystyle x_{1} + \\sin{\\left(x_{1}^{2} \\right)} + \\frac{1}{3}$"
      ],
      "text/plain": [
       "x1 + sin(x1**2) + 1/3"
      ]
     },
     "metadata": {},
     "output_type": "display_data"
    },
    {
     "name": "stdout",
     "output_type": "stream",
     "text": [
      "========================================\n",
      "Livermore-2\n"
     ]
    },
    {
     "data": {
      "text/latex": [
       "$\\displaystyle \\sin{\\left(x_{1}^{2} \\right)} \\cos{\\left(x_{1} \\right)} - 2$"
      ],
      "text/plain": [
       "sin(x1**2)*cos(x1) - 2"
      ]
     },
     "metadata": {},
     "output_type": "display_data"
    },
    {
     "name": "stdout",
     "output_type": "stream",
     "text": [
      "========================================\n",
      "Livermore-3\n"
     ]
    },
    {
     "data": {
      "text/latex": [
       "$\\displaystyle \\sin{\\left(x_{1}^{3} \\right)} \\cos{\\left(x_{1}^{2} \\right)} - 1$"
      ],
      "text/plain": [
       "sin(x1**3)*cos(x1**2) - 1"
      ]
     },
     "metadata": {},
     "output_type": "display_data"
    },
    {
     "name": "stdout",
     "output_type": "stream",
     "text": [
      "========================================\n",
      "Livermore-4\n"
     ]
    },
    {
     "data": {
      "text/latex": [
       "$\\displaystyle \\log{\\left(x_{1} \\right)} + \\log{\\left(x_{1} + 1 \\right)} + \\log{\\left(x_{1}^{2} + 1 \\right)}$"
      ],
      "text/plain": [
       "log(x1) + log(x1 + 1) + log(x1**2 + 1)"
      ]
     },
     "metadata": {},
     "output_type": "display_data"
    },
    {
     "name": "stdout",
     "output_type": "stream",
     "text": [
      "========================================\n",
      "Livermore-5\n"
     ]
    },
    {
     "data": {
      "text/latex": [
       "$\\displaystyle x_{1}^{4} - x_{1}^{3} + x_{1}^{2} - x_{2}$"
      ],
      "text/plain": [
       "x1**4 - x1**3 + x1**2 - x2"
      ]
     },
     "metadata": {},
     "output_type": "display_data"
    },
    {
     "name": "stdout",
     "output_type": "stream",
     "text": [
      "========================================\n",
      "Livermore-6\n"
     ]
    },
    {
     "data": {
      "text/latex": [
       "$\\displaystyle 4 x_{1}^{4} + 3 x_{1}^{3} + 2 x_{1}^{2} + x_{1}$"
      ],
      "text/plain": [
       "4*x1**4 + 3*x1**3 + 2*x1**2 + x1"
      ]
     },
     "metadata": {},
     "output_type": "display_data"
    },
    {
     "name": "stdout",
     "output_type": "stream",
     "text": [
      "========================================\n",
      "Livermore-7\n"
     ]
    },
    {
     "data": {
      "text/latex": [
       "$\\displaystyle \\sinh{\\left(x_{1} \\right)}$"
      ],
      "text/plain": [
       "sinh(x1)"
      ]
     },
     "metadata": {},
     "output_type": "display_data"
    },
    {
     "name": "stdout",
     "output_type": "stream",
     "text": [
      "========================================\n",
      "Livermore-8\n"
     ]
    },
    {
     "data": {
      "text/latex": [
       "$\\displaystyle \\cosh{\\left(x_{1} \\right)}$"
      ],
      "text/plain": [
       "cosh(x1)"
      ]
     },
     "metadata": {},
     "output_type": "display_data"
    },
    {
     "name": "stdout",
     "output_type": "stream",
     "text": [
      "========================================\n",
      "Livermore-9\n"
     ]
    },
    {
     "data": {
      "text/latex": [
       "$\\displaystyle x_{1}^{9} + x_{1}^{8} + x_{1}^{7} + x_{1}^{6} + x_{1}^{5} + x_{1}^{4} + x_{1}^{3} + x_{1}^{2} + x_{1}$"
      ],
      "text/plain": [
       "x1**9 + x1**8 + x1**7 + x1**6 + x1**5 + x1**4 + x1**3 + x1**2 + x1"
      ]
     },
     "metadata": {},
     "output_type": "display_data"
    },
    {
     "name": "stdout",
     "output_type": "stream",
     "text": [
      "========================================\n",
      "Livermore-10\n"
     ]
    },
    {
     "data": {
      "text/latex": [
       "$\\displaystyle 6 \\sin{\\left(x_{1} \\right)} \\cos{\\left(x_{2} \\right)}$"
      ],
      "text/plain": [
       "6*sin(x1)*cos(x2)"
      ]
     },
     "metadata": {},
     "output_type": "display_data"
    },
    {
     "name": "stdout",
     "output_type": "stream",
     "text": [
      "========================================\n",
      "Livermore-11\n"
     ]
    },
    {
     "data": {
      "text/latex": [
       "$\\displaystyle \\frac{x_{1}^{4}}{x_{1} + x_{2}}$"
      ],
      "text/plain": [
       "x1**4/(x1 + x2)"
      ]
     },
     "metadata": {},
     "output_type": "display_data"
    },
    {
     "name": "stdout",
     "output_type": "stream",
     "text": [
      "========================================\n",
      "Livermore-12\n"
     ]
    },
    {
     "data": {
      "text/latex": [
       "$\\displaystyle \\frac{x_{1}^{5}}{x_{2}^{3}}$"
      ],
      "text/plain": [
       "x1**5/x2**3"
      ]
     },
     "metadata": {},
     "output_type": "display_data"
    },
    {
     "name": "stdout",
     "output_type": "stream",
     "text": [
      "========================================\n",
      "Livermore-13\n"
     ]
    },
    {
     "data": {
      "text/latex": [
       "$\\displaystyle \\sqrt[3]{x_{1}}$"
      ],
      "text/plain": [
       "x1**(1/3)"
      ]
     },
     "metadata": {},
     "output_type": "display_data"
    },
    {
     "name": "stdout",
     "output_type": "stream",
     "text": [
      "========================================\n",
      "Livermore-14\n"
     ]
    },
    {
     "data": {
      "text/latex": [
       "$\\displaystyle x_{1}^{3} + x_{1}^{2} + x_{1} + \\sin{\\left(x_{1} \\right)} + \\sin{\\left(x_{1}^{2} \\right)}$"
      ],
      "text/plain": [
       "x1**3 + x1**2 + x1 + sin(x1) + sin(x1**2)"
      ]
     },
     "metadata": {},
     "output_type": "display_data"
    },
    {
     "name": "stdout",
     "output_type": "stream",
     "text": [
      "========================================\n",
      "Livermore-15\n"
     ]
    },
    {
     "data": {
      "text/latex": [
       "$\\displaystyle \\sqrt[5]{x_{1}}$"
      ],
      "text/plain": [
       "x1**(1/5)"
      ]
     },
     "metadata": {},
     "output_type": "display_data"
    },
    {
     "name": "stdout",
     "output_type": "stream",
     "text": [
      "========================================\n",
      "Livermore-16\n"
     ]
    },
    {
     "data": {
      "text/latex": [
       "$\\displaystyle x_{1}^{\\frac{2}{5}}$"
      ],
      "text/plain": [
       "x1**(2/5)"
      ]
     },
     "metadata": {},
     "output_type": "display_data"
    },
    {
     "name": "stdout",
     "output_type": "stream",
     "text": [
      "========================================\n",
      "Livermore-17\n"
     ]
    },
    {
     "data": {
      "text/latex": [
       "$\\displaystyle 4 \\sin{\\left(x_{1} \\right)} \\cos{\\left(x_{2} \\right)}$"
      ],
      "text/plain": [
       "4*sin(x1)*cos(x2)"
      ]
     },
     "metadata": {},
     "output_type": "display_data"
    },
    {
     "name": "stdout",
     "output_type": "stream",
     "text": [
      "========================================\n",
      "Livermore-18\n"
     ]
    },
    {
     "data": {
      "text/latex": [
       "$\\displaystyle \\sin{\\left(x_{1}^{2} \\right)} \\cos{\\left(x_{1} \\right)} - 5$"
      ],
      "text/plain": [
       "sin(x1**2)*cos(x1) - 5"
      ]
     },
     "metadata": {},
     "output_type": "display_data"
    },
    {
     "name": "stdout",
     "output_type": "stream",
     "text": [
      "========================================\n",
      "Livermore-19\n"
     ]
    },
    {
     "data": {
      "text/latex": [
       "$\\displaystyle x_{1}^{5} + x_{1}^{4} + x_{1}^{2} + x_{1}$"
      ],
      "text/plain": [
       "x1**5 + x1**4 + x1**2 + x1"
      ]
     },
     "metadata": {},
     "output_type": "display_data"
    },
    {
     "name": "stdout",
     "output_type": "stream",
     "text": [
      "========================================\n",
      "Livermore-20\n"
     ]
    },
    {
     "data": {
      "text/latex": [
       "$\\displaystyle e^{- x_{1}^{2}}$"
      ],
      "text/plain": [
       "exp(-x1**2)"
      ]
     },
     "metadata": {},
     "output_type": "display_data"
    },
    {
     "name": "stdout",
     "output_type": "stream",
     "text": [
      "========================================\n",
      "Livermore-21\n"
     ]
    },
    {
     "data": {
      "text/latex": [
       "$\\displaystyle x_{1}^{8} + x_{1}^{7} + x_{1}^{6} + x_{1}^{5} + x_{1}^{4} + x_{1}^{3} + x_{1}^{2} + x_{1}$"
      ],
      "text/plain": [
       "x1**8 + x1**7 + x1**6 + x1**5 + x1**4 + x1**3 + x1**2 + x1"
      ]
     },
     "metadata": {},
     "output_type": "display_data"
    },
    {
     "name": "stdout",
     "output_type": "stream",
     "text": [
      "========================================\n",
      "Livermore-22\n"
     ]
    },
    {
     "data": {
      "text/latex": [
       "$\\displaystyle e^{- 0.5 x_{1}^{2}}$"
      ],
      "text/plain": [
       "exp(-0.5*x1**2)"
      ]
     },
     "metadata": {},
     "output_type": "display_data"
    },
    {
     "name": "stdout",
     "output_type": "stream",
     "text": [
      "========================================\n",
      "Feynman-1\n"
     ]
    },
    {
     "data": {
      "text/latex": [
       "$\\displaystyle x_{1} x_{2}$"
      ],
      "text/plain": [
       "x1*x2"
      ]
     },
     "metadata": {},
     "output_type": "display_data"
    },
    {
     "name": "stdout",
     "output_type": "stream",
     "text": [
      "========================================\n",
      "Feynman-2\n"
     ]
    },
    {
     "data": {
      "text/latex": [
       "$\\displaystyle \\frac{x_{1}}{2 x_{2} + 2}$"
      ],
      "text/plain": [
       "x1/(2*x2 + 2)"
      ]
     },
     "metadata": {},
     "output_type": "display_data"
    },
    {
     "name": "stdout",
     "output_type": "stream",
     "text": [
      "========================================\n",
      "Feynman-3\n"
     ]
    },
    {
     "data": {
      "text/latex": [
       "$\\displaystyle x_{1} x_{2}^{2}$"
      ],
      "text/plain": [
       "x1*x2**2"
      ]
     },
     "metadata": {},
     "output_type": "display_data"
    },
    {
     "name": "stdout",
     "output_type": "stream",
     "text": [
      "========================================\n",
      "Feynman-4\n"
     ]
    },
    {
     "data": {
      "text/latex": [
       "$\\displaystyle \\frac{x_{1} x_{2}}{- \\frac{x_{1} x_{2}}{3} + 1} + 1$"
      ],
      "text/plain": [
       "x1*x2/(-x1*x2/3 + 1) + 1"
      ]
     },
     "metadata": {},
     "output_type": "display_data"
    },
    {
     "name": "stdout",
     "output_type": "stream",
     "text": [
      "========================================\n",
      "Feynman-5\n"
     ]
    },
    {
     "data": {
      "text/latex": [
       "$\\displaystyle \\frac{x_{1}}{x_{2}}$"
      ],
      "text/plain": [
       "x1/x2"
      ]
     },
     "metadata": {},
     "output_type": "display_data"
    },
    {
     "name": "stdout",
     "output_type": "stream",
     "text": [
      "========================================\n",
      "Feynman-6\n"
     ]
    },
    {
     "data": {
      "text/latex": [
       "$\\displaystyle \\frac{x_{1} x_{2}^{2}}{2}$"
      ],
      "text/plain": [
       "x1*x2**2/2"
      ]
     },
     "metadata": {},
     "output_type": "display_data"
    },
    {
     "name": "stdout",
     "output_type": "stream",
     "text": [
      "========================================\n",
      "Feynman-7\n"
     ]
    },
    {
     "data": {
      "text/latex": [
       "$\\displaystyle \\frac{3 x_{1} x_{2}}{2}$"
      ],
      "text/plain": [
       "3*x1*x2/2"
      ]
     },
     "metadata": {},
     "output_type": "display_data"
    },
    {
     "name": "stdout",
     "output_type": "stream",
     "text": [
      "========================================\n",
      "Feynman-8\n"
     ]
    },
    {
     "data": {
      "text/latex": [
       "$\\displaystyle \\frac{x_{1}}{e^{\\frac{x_{4} x_{5}}{x_{2} x_{3}}} + e^{- \\frac{x_{4} x_{5}}{x_{2} x_{3}}}}$"
      ],
      "text/plain": [
       "x1/(exp(x4*x5/(x2*x3)) + exp(-x4*x5/(x2*x3)))"
      ]
     },
     "metadata": {},
     "output_type": "display_data"
    },
    {
     "name": "stdout",
     "output_type": "stream",
     "text": [
      "========================================\n",
      "Feynman-9\n"
     ]
    },
    {
     "data": {
      "text/latex": [
       "$\\displaystyle x_{1} x_{2} x_{3} \\log{\\left(\\frac{x_{5}}{x_{4}} \\right)}$"
      ],
      "text/plain": [
       "x1*x2*x3*log(x5/x4)"
      ]
     },
     "metadata": {},
     "output_type": "display_data"
    },
    {
     "name": "stdout",
     "output_type": "stream",
     "text": [
      "========================================\n",
      "Feynman-10\n"
     ]
    },
    {
     "data": {
      "text/latex": [
       "$\\displaystyle \\frac{x_{1} x_{4} \\left(- x_{2} + x_{3}\\right)}{x_{5}}$"
      ],
      "text/plain": [
       "x1*x4*(-x2 + x3)/x5"
      ]
     },
     "metadata": {},
     "output_type": "display_data"
    },
    {
     "name": "stdout",
     "output_type": "stream",
     "text": [
      "========================================\n",
      "Feynman-11\n"
     ]
    },
    {
     "data": {
      "text/latex": [
       "$\\displaystyle \\frac{x_{1} x_{2}}{x_{5} \\left(x_{3}^{2} - x_{4}^{2}\\right)}$"
      ],
      "text/plain": [
       "x1*x2/(x5*(x3**2 - x4**2))"
      ]
     },
     "metadata": {},
     "output_type": "display_data"
    },
    {
     "name": "stdout",
     "output_type": "stream",
     "text": [
      "========================================\n",
      "Feynman-12\n"
     ]
    },
    {
     "data": {
      "text/latex": [
       "$\\displaystyle \\frac{x_{1} x_{2}^{2} x_{3}}{3 x_{4} x_{5}}$"
      ],
      "text/plain": [
       "x1*x2**2*x3/(3*x4*x5)"
      ]
     },
     "metadata": {},
     "output_type": "display_data"
    },
    {
     "name": "stdout",
     "output_type": "stream",
     "text": [
      "========================================\n",
      "Feynman-13\n"
     ]
    },
    {
     "data": {
      "text/latex": [
       "$\\displaystyle x_{1} \\left(e^{\\frac{x_{2} x_{3}}{x_{4} x_{5}}} - 1\\right)$"
      ],
      "text/plain": [
       "x1*(exp(x2*x3/(x4*x5)) - 1)"
      ]
     },
     "metadata": {},
     "output_type": "display_data"
    },
    {
     "name": "stdout",
     "output_type": "stream",
     "text": [
      "========================================\n",
      "Feynman-14\n"
     ]
    },
    {
     "data": {
      "text/latex": [
       "$\\displaystyle x_{1} x_{2} x_{5} \\left(\\frac{1}{x_{4}} - \\frac{1}{x_{3}}\\right)$"
      ],
      "text/plain": [
       "x1*x2*x5*(1/x4 - 1/x3)"
      ]
     },
     "metadata": {},
     "output_type": "display_data"
    },
    {
     "name": "stdout",
     "output_type": "stream",
     "text": [
      "========================================\n",
      "Feynman-15\n"
     ]
    },
    {
     "data": {
      "text/latex": [
       "$\\displaystyle x_{1} \\left(x_{2} + x_{3} x_{4} \\sin{\\left(x_{5} \\right)}\\right)$"
      ],
      "text/plain": [
       "x1*(x2 + x3*x4*sin(x5))"
      ]
     },
     "metadata": {},
     "output_type": "display_data"
    },
    {
     "name": "stdout",
     "output_type": "stream",
     "text": [
      "========================================\n",
      "Feynman-A-1\n"
     ]
    },
    {
     "data": {
      "text/latex": [
       "$\\displaystyle \\frac{x_{1} x_{2} x_{3}}{\\left(- x_{4} + x_{5}\\right)^{2} + \\left(- x_{6} + x_{7}\\right)^{2} + \\left(- x_{8} + x_{9}\\right)^{2}}$"
      ],
      "text/plain": [
       "x1*x2*x3/((-x4 + x5)**2 + (-x6 + x7)**2 + (-x8 + x9)**2)"
      ]
     },
     "metadata": {},
     "output_type": "display_data"
    },
    {
     "name": "stdout",
     "output_type": "stream",
     "text": [
      "========================================\n",
      "Feynman-A-2\n"
     ]
    },
    {
     "data": {
      "text/latex": [
       "$\\displaystyle \\frac{x_{1} x_{2}}{x_{3} x_{4}} + \\frac{x_{1} x_{5} x_{8}}{x_{3} x_{4} x_{6} x_{7}^{2}}$"
      ],
      "text/plain": [
       "x1*x2/(x3*x4) + x1*x5*x8/(x3*x4*x6*x7**2)"
      ]
     },
     "metadata": {},
     "output_type": "display_data"
    },
    {
     "name": "stdout",
     "output_type": "stream",
     "text": [
      "========================================\n",
      "Feynman-A-3\n"
     ]
    },
    {
     "data": {
      "text/latex": [
       "$\\displaystyle x_{1} e^{- \\frac{x_{2} x_{3} x_{5}}{x_{4} x_{6}}}$"
      ],
      "text/plain": [
       "x1*exp(-x2*x3*x5/(x4*x6))"
      ]
     },
     "metadata": {},
     "output_type": "display_data"
    },
    {
     "name": "stdout",
     "output_type": "stream",
     "text": [
      "========================================\n",
      "Feynman-A-4\n"
     ]
    },
    {
     "data": {
      "text/latex": [
       "$\\displaystyle x_{1} x_{4} + x_{2} x_{5} + x_{3} x_{6}$"
      ],
      "text/plain": [
       "x1*x4 + x2*x5 + x3*x6"
      ]
     },
     "metadata": {},
     "output_type": "display_data"
    },
    {
     "name": "stdout",
     "output_type": "stream",
     "text": [
      "========================================\n",
      "Feynman-A-5\n"
     ]
    },
    {
     "data": {
      "text/latex": [
       "$\\displaystyle x_{1} \\left(1 + \\frac{x_{5} x_{6} \\cos{\\left(x_{4} \\right)}}{x_{2} x_{3}}\\right)$"
      ],
      "text/plain": [
       "x1*(1 + x5*x6*cos(x4)/(x2*x3))"
      ]
     },
     "metadata": {},
     "output_type": "display_data"
    },
    {
     "name": "stdout",
     "output_type": "stream",
     "text": [
      "========================================\n",
      "Feynman-A-6\n"
     ]
    },
    {
     "data": {
      "text/latex": [
       "$\\displaystyle x_{1} x_{2} \\left(x_{3} + 1\\right)$"
      ],
      "text/plain": [
       "x1*x2*(x3 + 1)"
      ]
     },
     "metadata": {},
     "output_type": "display_data"
    },
    {
     "name": "stdout",
     "output_type": "stream",
     "text": [
      "========================================\n",
      "Feynman-A-7\n"
     ]
    },
    {
     "data": {
      "text/latex": [
       "$\\displaystyle \\frac{x_{1} x_{2} x_{4}}{x_{3}}$"
      ],
      "text/plain": [
       "x1*x2*x4/x3"
      ]
     },
     "metadata": {},
     "output_type": "display_data"
    },
    {
     "name": "stdout",
     "output_type": "stream",
     "text": [
      "========================================\n",
      "Feynman-A-8\n"
     ]
    },
    {
     "data": {
      "text/latex": [
       "$\\displaystyle \\frac{x_{1} x_{2} x_{3}}{x_{4}}$"
      ],
      "text/plain": [
       "x1*x2*x3/x4"
      ]
     },
     "metadata": {},
     "output_type": "display_data"
    },
    {
     "name": "stdout",
     "output_type": "stream",
     "text": [
      "========================================\n",
      "Feynman-A-9\n"
     ]
    },
    {
     "data": {
      "text/latex": [
       "$\\displaystyle \\frac{x_{2} x_{4}}{x_{3} \\left(x_{1} - 1\\right)}$"
      ],
      "text/plain": [
       "x2*x4/(x3*(x1 - 1))"
      ]
     },
     "metadata": {},
     "output_type": "display_data"
    },
    {
     "name": "stdout",
     "output_type": "stream",
     "text": [
      "========================================\n",
      "Feynman-A-10\n"
     ]
    },
    {
     "data": {
      "text/latex": [
       "$\\displaystyle \\frac{x_{1} x_{2} x_{3}}{2 x_{4}}$"
      ],
      "text/plain": [
       "x1*x2*x3/(2*x4)"
      ]
     },
     "metadata": {},
     "output_type": "display_data"
    },
    {
     "name": "stdout",
     "output_type": "stream",
     "text": [
      "========================================\n",
      "Feynman-A-11\n"
     ]
    },
    {
     "data": {
      "text/latex": [
       "$\\displaystyle \\frac{x_{1} x_{2} x_{4}}{x_{3}}$"
      ],
      "text/plain": [
       "x1*x2*x4/x3"
      ]
     },
     "metadata": {},
     "output_type": "display_data"
    },
    {
     "name": "stdout",
     "output_type": "stream",
     "text": [
      "========================================\n",
      "Feynman-A-12\n"
     ]
    },
    {
     "data": {
      "text/latex": [
       "$\\displaystyle x_{1} \\left(x_{4} \\cos^{2}{\\left(x_{2} x_{3} \\right)} + \\cos{\\left(x_{2} x_{3} \\right)}\\right)$"
      ],
      "text/plain": [
       "x1*(x4*cos(x2*x3)**2 + cos(x2*x3))"
      ]
     },
     "metadata": {},
     "output_type": "display_data"
    },
    {
     "name": "stdout",
     "output_type": "stream",
     "text": [
      "========================================\n",
      "Feynman-A-13\n"
     ]
    },
    {
     "data": {
      "text/latex": [
       "$\\displaystyle - \\frac{x_{1} x_{2} x_{3}}{x_{4}}$"
      ],
      "text/plain": [
       "-x1*x2*x3/x4"
      ]
     },
     "metadata": {},
     "output_type": "display_data"
    },
    {
     "name": "stdout",
     "output_type": "stream",
     "text": [
      "========================================\n",
      "Feynman-A-14\n"
     ]
    },
    {
     "data": {
      "text/latex": [
       "$\\displaystyle \\frac{x_{1} x_{3} + x_{2} x_{4}}{x_{1} + x_{2}}$"
      ],
      "text/plain": [
       "(x1*x3 + x2*x4)/(x1 + x2)"
      ]
     },
     "metadata": {},
     "output_type": "display_data"
    },
    {
     "name": "stdout",
     "output_type": "stream",
     "text": [
      "========================================\n",
      "Feynman-A-15\n"
     ]
    },
    {
     "data": {
      "text/latex": [
       "$\\displaystyle \\frac{x_{1} \\left(x_{2}^{2} + x_{3}^{2} + x_{4}^{2}\\right)}{2}$"
      ],
      "text/plain": [
       "x1*(x2**2 + x3**2 + x4**2)/2"
      ]
     },
     "metadata": {},
     "output_type": "display_data"
    },
    {
     "name": "stdout",
     "output_type": "stream",
     "text": [
      "========================================\n",
      "Feynman-A-16\n"
     ]
    },
    {
     "data": {
      "text/latex": [
       "$\\displaystyle - x_{1} x_{2} \\cos{\\left(x_{3} \\right)}$"
      ],
      "text/plain": [
       "-x1*x2*cos(x3)"
      ]
     },
     "metadata": {},
     "output_type": "display_data"
    },
    {
     "name": "stdout",
     "output_type": "stream",
     "text": [
      "========================================\n",
      "Feynman-A-17\n"
     ]
    },
    {
     "data": {
      "text/latex": [
       "$\\displaystyle \\frac{x_{2} + x_{3}}{1 + \\frac{x_{2} x_{3}}{x_{1}^{2}}}$"
      ],
      "text/plain": [
       "(x2 + x3)/(1 + x2*x3/x1**2)"
      ]
     },
     "metadata": {},
     "output_type": "display_data"
    },
    {
     "name": "stdout",
     "output_type": "stream",
     "text": [
      "========================================\n",
      "Feynman-A-18\n"
     ]
    },
    {
     "data": {
      "text/latex": [
       "$\\displaystyle x_{1} x_{2} x_{3}$"
      ],
      "text/plain": [
       "x1*x2*x3"
      ]
     },
     "metadata": {},
     "output_type": "display_data"
    },
    {
     "name": "stdout",
     "output_type": "stream",
     "text": [
      "========================================\n",
      "Feynman-A-19\n"
     ]
    },
    {
     "data": {
      "text/latex": [
       "$\\displaystyle x_{1} x_{2} x_{3}^{2}$"
      ],
      "text/plain": [
       "x1*x2*x3**2"
      ]
     },
     "metadata": {},
     "output_type": "display_data"
    },
    {
     "name": "stdout",
     "output_type": "stream",
     "text": [
      "========================================\n",
      "Feynman-A-20\n"
     ]
    },
    {
     "data": {
      "text/latex": [
       "$\\displaystyle \\frac{x_{1} x_{2} x_{3}}{2}$"
      ],
      "text/plain": [
       "x1*x2*x3/2"
      ]
     },
     "metadata": {},
     "output_type": "display_data"
    },
    {
     "name": "stdout",
     "output_type": "stream",
     "text": [
      "========================================\n",
      "Feynman-A-21\n"
     ]
    },
    {
     "data": {
      "text/latex": [
       "$\\displaystyle \\frac{x_{2} x_{3}}{x_{1} - 1}$"
      ],
      "text/plain": [
       "x2*x3/(x1 - 1)"
      ]
     },
     "metadata": {},
     "output_type": "display_data"
    },
    {
     "name": "stdout",
     "output_type": "stream",
     "text": [
      "========================================\n",
      "Feynman-A-22\n"
     ]
    },
    {
     "data": {
      "text/latex": [
       "$\\displaystyle \\frac{x_{3}}{1 - \\frac{x_{2}}{x_{1}}}$"
      ],
      "text/plain": [
       "x3/(1 - x2/x1)"
      ]
     },
     "metadata": {},
     "output_type": "display_data"
    },
    {
     "name": "stdout",
     "output_type": "stream",
     "text": [
      "========================================\n",
      "Feynman-A-23\n"
     ]
    },
    {
     "data": {
      "text/latex": [
       "$\\displaystyle x_{1} x_{2} x_{3}$"
      ],
      "text/plain": [
       "x1*x2*x3"
      ]
     },
     "metadata": {},
     "output_type": "display_data"
    },
    {
     "name": "stdout",
     "output_type": "stream",
     "text": [
      "========================================\n",
      "Feynman-A-24\n"
     ]
    },
    {
     "data": {
      "text/latex": [
       "$\\displaystyle \\frac{x_{1} \\sin^{2}{\\left(\\frac{x_{2} x_{3}}{2} \\right)}}{\\sin^{2}{\\left(\\frac{x_{2}}{2} \\right)}}$"
      ],
      "text/plain": [
       "x1*sin(x2*x3/2)**2/sin(x2/2)**2"
      ]
     },
     "metadata": {},
     "output_type": "display_data"
    },
    {
     "name": "stdout",
     "output_type": "stream",
     "text": [
      "========================================\n",
      "Feynman-A-25\n"
     ]
    },
    {
     "data": {
      "text/latex": [
       "$\\displaystyle x_{1} \\left(x_{2} \\cos{\\left(x_{3} \\right)} + 1\\right)$"
      ],
      "text/plain": [
       "x1*(x2*cos(x3) + 1)"
      ]
     },
     "metadata": {},
     "output_type": "display_data"
    },
    {
     "name": "stdout",
     "output_type": "stream",
     "text": [
      "========================================\n",
      "Feynman-A-26\n"
     ]
    },
    {
     "data": {
      "text/latex": [
       "$\\displaystyle \\frac{1}{\\frac{x_{3}}{x_{2}} + \\frac{1}{x_{1}}}$"
      ],
      "text/plain": [
       "1/(x3/x2 + 1/x1)"
      ]
     },
     "metadata": {},
     "output_type": "display_data"
    },
    {
     "name": "stdout",
     "output_type": "stream",
     "text": [
      "========================================\n",
      "Feynman-A-27\n"
     ]
    },
    {
     "data": {
      "text/latex": [
       "$\\displaystyle 2 x_{1} \\left(1 - \\cos{\\left(x_{2} x_{3} \\right)}\\right)$"
      ],
      "text/plain": [
       "2*x1*(1 - cos(x2*x3))"
      ]
     },
     "metadata": {},
     "output_type": "display_data"
    },
    {
     "name": "stdout",
     "output_type": "stream",
     "text": [
      "========================================\n",
      "Feynman-A-28\n"
     ]
    },
    {
     "data": {
      "text/latex": [
       "$\\displaystyle \\frac{x_{1}}{x_{2} \\left(x_{3} + 1\\right)}$"
      ],
      "text/plain": [
       "x1/(x2*(x3 + 1))"
      ]
     },
     "metadata": {},
     "output_type": "display_data"
    },
    {
     "name": "stdout",
     "output_type": "stream",
     "text": [
      "========================================\n",
      "Feynman-A-29\n"
     ]
    },
    {
     "data": {
      "text/latex": [
       "$\\displaystyle \\frac{x_{1}^{2} x_{2}^{2} x_{3}^{2} x_{4}^{2} x_{5}^{2}}{16 x_{6}^{2} \\sin^{4}{\\left(\\frac{x_{7}}{2} \\right)}}$"
      ],
      "text/plain": [
       "x1**2*x2**2*x3**2*x4**2*x5**2/(16*x6**2*sin(x7/2)**4)"
      ]
     },
     "metadata": {},
     "output_type": "display_data"
    },
    {
     "name": "stdout",
     "output_type": "stream",
     "text": [
      "========================================\n",
      "Feynman-A-30\n"
     ]
    },
    {
     "data": {
      "text/latex": [
       "$\\displaystyle \\frac{x_{1}}{\\frac{x_{1}}{x_{2} x_{3}^{2} \\left(1 - \\cos{\\left(x_{4} \\right)}\\right)} + 1}$"
      ],
      "text/plain": [
       "x1/(x1/(x2*x3**2*(1 - cos(x4))) + 1)"
      ]
     },
     "metadata": {},
     "output_type": "display_data"
    },
    {
     "name": "stdout",
     "output_type": "stream",
     "text": [
      "========================================\n",
      "Feynman-A-31\n"
     ]
    },
    {
     "data": {
      "text/latex": [
       "$\\displaystyle \\frac{x_{1} \\left(1 - x_{2}^{2}\\right)}{x_{2} \\cos{\\left(x_{3} - x_{4} \\right)} + 1}$"
      ],
      "text/plain": [
       "x1*(1 - x2**2)/(x2*cos(x3 - x4) + 1)"
      ]
     },
     "metadata": {},
     "output_type": "display_data"
    },
    {
     "name": "stdout",
     "output_type": "stream",
     "text": [
      "========================================\n",
      "Feynman-A-32\n"
     ]
    },
    {
     "data": {
      "text/latex": [
       "$\\displaystyle \\frac{4 x_{1} \\sin^{2}{\\left(\\frac{x_{2}}{2} \\right)} \\sin^{2}{\\left(\\frac{x_{3} x_{4}}{2} \\right)}}{x_{2}^{2} \\sin^{2}{\\left(\\frac{x_{3}}{2} \\right)}}$"
      ],
      "text/plain": [
       "4*x1*sin(x2/2)**2*sin(x3*x4/2)**2/(x2**2*sin(x3/2)**2)"
      ]
     },
     "metadata": {},
     "output_type": "display_data"
    },
    {
     "name": "stdout",
     "output_type": "stream",
     "text": [
      "========================================\n"
     ]
    }
   ],
   "source": [
    "for i,(name,dim,const,distrb,range,expr) in df.iterrows():\n",
    "    expr_sympy = sympy.sympify(expr)\n",
    "    print(name)\n",
    "    display(expr_sympy)\n",
    "    print('='*40)"
   ]
  }
 ],
 "metadata": {
  "kernelspec": {
   "display_name": "Python 3",
   "language": "python",
   "name": "python3"
  },
  "language_info": {
   "codemirror_mode": {
    "name": "ipython",
    "version": 3
   },
   "file_extension": ".py",
   "mimetype": "text/x-python",
   "name": "python",
   "nbconvert_exporter": "python",
   "pygments_lexer": "ipython3",
   "version": "3.7.8"
  },
  "orig_nbformat": 4
 },
 "nbformat": 4,
 "nbformat_minor": 2
}
